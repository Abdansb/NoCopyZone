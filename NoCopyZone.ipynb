{
  "cells": [
    {
      "cell_type": "markdown",
      "metadata": {
        "id": "view-in-github",
        "colab_type": "text"
      },
      "source": [
        "<a href=\"https://colab.research.google.com/github/Abdansb/NoCopyZone/blob/main/NoCopyZone.ipynb\" target=\"_parent\"><img src=\"https://colab.research.google.com/assets/colab-badge.svg\" alt=\"Open In Colab\"/></a>"
      ]
    },
    {
      "cell_type": "markdown",
      "source": [
        "# To-Do\n",
        "\n",
        "*   Gather all selenium result in one list\n",
        "*   learn regex\n",
        "*   fix result URL's with prefix \"/\"\n",
        "*   scrape via HTTP traffic\n",
        "*   scrape via source (js, html, and other files)\n",
        "\n",
        "<div>\n",
        "<img src=\"https://drive.usercontent.google.com/download?id=1kh0VlEu1NDOVqXyYKHzFviRMCyIOwpgZ&export=download&authuser=0&confirm=t&uuid=39cde4b1-3c0f-49a2-9624-162fc043d877&at=APZUnTXs12dtKQbVEqDxjjwtmEw2:1702054613486\" width=\"400\"/>\n",
        "</div>\n",
        "\n",
        "\n",
        "\n"
      ],
      "metadata": {
        "id": "y1By7-S8OpfZ"
      }
    },
    {
      "cell_type": "markdown",
      "source": [
        "# Install Dependecies\n",
        "\n",
        "###Bash scripting, accessing google colab terminal. Install python packages to their OS"
      ],
      "metadata": {
        "id": "hCgG8s0i0Jzl"
      }
    },
    {
      "cell_type": "code",
      "execution_count": null,
      "metadata": {
        "id": "MVc0hRr1P3WC"
      },
      "outputs": [],
      "source": [
        "! pip install requests bs4\n",
        "! pip install selenium\n",
        "! apt-get update\n",
        "! apt install chromium-chromedriver"
      ]
    },
    {
      "cell_type": "markdown",
      "metadata": {
        "id": "1Ic4JOLQ3DAj"
      },
      "source": [
        "# Using Selenium & Regular Expression\n",
        "\n",
        "*   Weekend kulik TDD Test-driven development\n",
        "*   Currently scrape all links in \"a\" tag\n",
        "*   PR! some websites use hidden js\n",
        "\n",
        "\n",
        "\n",
        "\n"
      ]
    },
    {
      "cell_type": "code",
      "execution_count": null,
      "metadata": {
        "id": "o3fZ0quSQArD"
      },
      "outputs": [],
      "source": [
        "# Import and configure chrome browser\n",
        "\n",
        "import re\n",
        "from selenium.webdriver.common.by import By\n",
        "from selenium import webdriver\n",
        "\n",
        "chrome_options = webdriver.ChromeOptions()\n",
        "chrome_options.add_argument('--headless') #headless means no graphical user interface\n",
        "chrome_options.add_argument('--no-sandbox')\n",
        "chrome_options.add_argument('--disable-dev-shm-usage')\n",
        "driver = webdriver.Chrome(options=chrome_options)"
      ]
    },
    {
      "cell_type": "code",
      "execution_count": null,
      "metadata": {
        "colab": {
          "base_uri": "https://localhost:8080/"
        },
        "id": "z8hulAXdm-ux",
        "outputId": "79cb6fa6-fa56-4d92-caee-0e69dfb86223"
      },
      "outputs": [
        {
          "output_type": "stream",
          "name": "stdout",
          "text": [
            "/\n",
            "indonesia.html\n",
            "indonesia.html\n",
            "indonesia.html\n",
            "indonesia.html\n",
            "indonesia.html\n",
            "indonesia.html\n",
            "indonesia.html\n",
            "indonesia.html\n",
            "indonesia.html\n",
            "javascript:window.scroll(0,0);\n"
          ]
        }
      ],
      "source": [
        "driver.get('https://livescore90bola.com/')\n",
        "# Get element by tag: <a> or <div> or <script>\n",
        "\n",
        "# combinations of getting URL's\n",
        "\n",
        "#links = driver.find_elements(By.TAG_NAME, 'a')\n",
        "links = driver.find_elements(By.TAG_NAME, 'div')\n",
        "#links = driver.find_elements(By.TAG_NAME, 'script')\n",
        "\n",
        "# Iterate over links list\n",
        "for link in links:\n",
        "\n",
        "  # Get raw html (ambil satu baris)\n",
        "  html_string = link.get_attribute('outerHTML')\n",
        "\n",
        "  # Capture string after \"href=\"\n",
        "  url_match = re.search(r'href=\"(.*?)\"', html_string)\n",
        "\n",
        "  # Capture string after \"src=\"\n",
        "  #url_match = re.search(r'src=\"(.*?)\"', html_string)\n",
        "\n",
        "  if url_match:\n",
        "    url = url_match.group(1)\n",
        "\n",
        "  print(url)\n",
        "\n",
        "\n",
        "\n",
        "\n"
      ]
    },
    {
      "cell_type": "code",
      "source": [],
      "metadata": {
        "id": "Evw8oXGIzj_h"
      },
      "execution_count": null,
      "outputs": []
    },
    {
      "cell_type": "markdown",
      "source": [
        "# Gak jadi\n",
        "# Using BeautifulSoup"
      ],
      "metadata": {
        "id": "CyHe--R_0mb9"
      }
    },
    {
      "cell_type": "code",
      "execution_count": null,
      "metadata": {
        "colab": {
          "background_save": true,
          "base_uri": "https://localhost:8080/"
        },
        "id": "yRuSBS8HPwoR",
        "outputId": "c73157ac-d8ff-46f8-e76e-0bdb55746136"
      },
      "outputs": [
        {
          "name": "stdout",
          "output_type": "stream",
          "text": [
            "['/']\n",
            "['https://www.facebook.com/90bola.io/']\n",
            "['https://www.youtube.com/channel/UCSMkjRpTQfwM601z3KSzg0g']\n",
            "['https://www.instagram.com/90bola.io/']\n",
            "['/']\n",
            "['/']\n",
            "['basket.html']\n",
            "['bisbol.html']\n",
            "['kalkulator.html']\n",
            "['/']\n",
            "['https://www.facebook.com/90bola.io/']\n",
            "['jadwal.html']\n",
            "['hasil.html']\n",
            "['1x2.html']\n",
            "['https://nowgoal5.io/']\n",
            "['bursa.html']\n",
            "['indonesia.html']\n",
            "['champion.html']\n",
            "['eropa.html']\n",
            "['inggris.html']\n",
            "['italia.html']\n",
            "['spanyol.html']\n",
            "['jerman.html']\n",
            "['perancis.html']\n",
            "['portugal.html']\n",
            "['javascript:window.scroll(0,0);']\n",
            "['tentang-kami.html']\n",
            "['#']\n",
            "['#fb']\n",
            "['petagratis.html']\n",
            "['sitemap.xml']\n",
            "['#']\n",
            "['petagratis.html']\n",
            "['#']\n",
            "['#']\n",
            "['#']\n",
            "['https://livescore90bola.com/']\n",
            "['tentang-kami.html']\n",
            "['#']\n",
            "['#']\n",
            "['https://855group.page.link/fifa855']\n",
            "['tentang-kami.html']\n",
            "['/']\n",
            "['/']\n",
            "['']\n",
            "['']\n",
            "['']\n",
            "['#']\n",
            "['https://www.facebook.com/recover/initiate/?ars=facebook_login']\n",
            "['/r.php?next=https%3A%2F%2Fwww.facebook.com%2F90bola.io%2F&locale=en_US&display=page']\n",
            "['https://es-la.facebook.com/login/?next=https%3A%2F%2Fwww.facebook.com%2F90bola.io%2F']\n",
            "['https://fr-fr.facebook.com/login/?next=https%3A%2F%2Fwww.facebook.com%2F90bola.io%2F']\n",
            "['https://zh-cn.facebook.com/login/?next=https%3A%2F%2Fwww.facebook.com%2F90bola.io%2F']\n",
            "['https://ar-ar.facebook.com/login/?next=https%3A%2F%2Fwww.facebook.com%2F90bola.io%2F']\n",
            "['https://pt-br.facebook.com/login/?next=https%3A%2F%2Fwww.facebook.com%2F90bola.io%2F']\n",
            "['https://it-it.facebook.com/login/?next=https%3A%2F%2Fwww.facebook.com%2F90bola.io%2F']\n",
            "['https://ko-kr.facebook.com/login/?next=https%3A%2F%2Fwww.facebook.com%2F90bola.io%2F']\n",
            "['https://de-de.facebook.com/login/?next=https%3A%2F%2Fwww.facebook.com%2F90bola.io%2F']\n",
            "['https://hi-in.facebook.com/login/?next=https%3A%2F%2Fwww.facebook.com%2F90bola.io%2F']\n",
            "['https://ja-jp.facebook.com/login/?next=https%3A%2F%2Fwww.facebook.com%2F90bola.io%2F']\n",
            "['#']\n",
            "['/reg/']\n",
            "['/login/']\n",
            "['https://messenger.com/']\n",
            "['/lite/']\n",
            "['https://www.facebook.com/watch/']\n",
            "['/places/']\n",
            "['/games/']\n",
            "['/marketplace/']\n",
            "['https://pay.facebook.com/']\n",
            "['https://www.meta.com/']\n",
            "['https://www.meta.com/quest/']\n",
            "['https://l.facebook.com/l.php?u=https%3A%2F%2Fwww.instagram.com%2F&h=AT0FVhQbCjq4yRRFGCXkT_Bv5uILf31JTBiLoBo4galVplflr2nxMX4OMGHJ_gAFn8z8asFVC7yyMHRqC-HXia3W62cR0qTCw_OtLiPxSu4839ZJCg6ti54x1d7ZzpohKiRq8A2N-OBBVH0l']\n",
            "['https://www.threads.net/']\n",
            "['/fundraisers/']\n",
            "['/biz/directory/']\n",
            "['/votinginformationcenter/?entry_point=c2l0ZQ%3D%3D']\n",
            "['/privacy/policy/?entry_point=facebook_page_footer']\n",
            "['/privacy/center/?entry_point=facebook_page_footer']\n",
            "['/groups/discover/']\n",
            "['https://about.meta.com/']\n",
            "['/ad_campaign/landing.php?placement=pflo&campaign_id=402047449186&nav_source=unknown&extra_1=auto']\n",
            "['/pages/create/?ref_type=site_footer']\n",
            "['https://developers.facebook.com/?ref=pf']\n",
            "['/careers/?ref=pf']\n",
            "['/policies/cookies/']\n",
            "['https://www.facebook.com/help/568137493302217']\n",
            "['/policies?ref=pf']\n",
            "['/help/?ref=pf']\n",
            "['help/637205020878504']\n",
            "['/settings']\n",
            "['/allactivity?privacy_source=activity_log_top_menu']\n",
            "['/']\n",
            "['/']\n",
            "['https://www.youtube.com/about/']\n",
            "['https://www.youtube.com/about/press/']\n",
            "['https://www.youtube.com/about/copyright/']\n",
            "['/t/contact_us/']\n",
            "['https://www.youtube.com/creators/']\n",
            "['https://www.youtube.com/ads/']\n",
            "['https://developers.google.com/youtube']\n",
            "['/t/terms']\n",
            "['/t/privacy']\n",
            "['https://www.youtube.com/about/policies/']\n",
            "['https://www.youtube.com/howyoutubeworks?utm_campaign=ytgen&utm_source=ythp&utm_medium=LeftNav&utm_content=txt&u=https%3A%2F%2Fwww.youtube.com%2Fhowyoutubeworks%3Futm_source%3Dythp%26utm_medium%3DLeftNav%26utm_campaign%3Dytgen']\n",
            "['/new']\n",
            "['https://tv.youtube.com/learn/nflsundayticket']\n"
          ]
        }
      ],
      "source": [
        "import requests\n",
        "from bs4 import BeautifulSoup\n",
        "import re\n",
        "\n",
        "# import time\n",
        "\n",
        "source_code = requests.get(\"https://livescore90bola.com/\")\n",
        "soup = BeautifulSoup(source_code.content, \"lxml\")\n",
        "data = []\n",
        "links = []\n",
        "\n",
        "\n",
        "def remove_duplicates(l):  # remove duplicates and unURL string\n",
        "    for item in l:\n",
        "        match = re.search(\"(?P<url>https?://[^\\s]+)\", item)\n",
        "        if match is not None:\n",
        "            links.append((match.group(\"url\")))\n",
        "\n",
        "\n",
        "for link in soup.find_all(\"a\", href=True):\n",
        "    data.append(str(link.get(\"href\")))\n",
        "flag = True\n",
        "remove_duplicates(data)\n",
        "lim = 50\n",
        "while flag:\n",
        "    try:\n",
        "        for link in links:\n",
        "            for j in soup.find_all(\"a\", href=True):\n",
        "                temp = []\n",
        "                source_code = requests.get(link)\n",
        "                soup = BeautifulSoup(source_code.content, \"lxml\")\n",
        "                temp.append(str(j.get(\"href\")))\n",
        "                remove_duplicates(temp)\n",
        "                print(temp)\n",
        "\n",
        "                if len(links) > lim:  # set limitation to number of URLs\n",
        "                    break\n",
        "            if len(links) > lim:\n",
        "                break\n",
        "        if len(links) > lim:\n",
        "            break\n",
        "    except Exception as e:\n",
        "        print(e)\n",
        "        if len(links) > lim:\n",
        "            break\n",
        "\n",
        "for url in links:\n",
        "    print(url)\n"
      ]
    }
  ],
  "metadata": {
    "colab": {
      "provenance": [],
      "collapsed_sections": [
        "CyHe--R_0mb9"
      ],
      "authorship_tag": "ABX9TyMFv43At/5o9wfSlYsdG3zE",
      "include_colab_link": true
    },
    "kernelspec": {
      "display_name": "Python 3",
      "name": "python3"
    },
    "language_info": {
      "name": "python"
    }
  },
  "nbformat": 4,
  "nbformat_minor": 0
}