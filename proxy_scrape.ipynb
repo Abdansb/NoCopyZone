{
  "nbformat": 4,
  "nbformat_minor": 0,
  "metadata": {
    "colab": {
      "provenance": [],
      "authorship_tag": "ABX9TyMGf3lU/y6vdB0kG3Nbt+QQ",
      "include_colab_link": true
    },
    "kernelspec": {
      "name": "python3",
      "display_name": "Python 3"
    },
    "language_info": {
      "name": "python"
    }
  },
  "cells": [
    {
      "cell_type": "markdown",
      "metadata": {
        "id": "view-in-github",
        "colab_type": "text"
      },
      "source": [
        "<a href=\"https://colab.research.google.com/github/Abdansb/NoCopyZone/blob/main/proxy_scrape.ipynb\" target=\"_parent\"><img src=\"https://colab.research.google.com/assets/colab-badge.svg\" alt=\"Open In Colab\"/></a>"
      ]
    },
    {
      "cell_type": "markdown",
      "source": [
        "Required"
      ],
      "metadata": {
        "id": "090mVdprvSIf"
      }
    },
    {
      "cell_type": "code",
      "execution_count": null,
      "metadata": {
        "id": "5U4u8eCpYiWs"
      },
      "outputs": [],
      "source": [
        "! pip install browsermob-proxy\n",
        "! pip install requests bs4\n",
        "! pip install selenium\n",
        "! pip install ipython-autotime\n",
        "! apt-get update\n",
        "! apt install chromium-chromedriver\n",
        "! wget https://github.com/lightbody/browsermob-proxy/releases/download/browsermob-proxy-2.1.4/browsermob-proxy-2.1.4-bin.zip\n",
        "! unzip browsermob-proxy-2.1.4-bin.zip\n",
        "! ls\n",
        "! pwd\n",
        "%cd /content/browsermob-proxy-2.1.4/bin\n",
        "! chmod -R 777 *"
      ]
    },
    {
      "cell_type": "code",
      "source": [
        "import time\n",
        "from selenium import webdriver\n",
        "from browsermobproxy import Server\n",
        "from selenium.webdriver.support.wait import WebDriverWait\n",
        "from selenium.webdriver.support import expected_conditions as EC\n",
        "\n",
        "\n",
        "dict={'port':443}\n",
        "server = Server('/content/browsermob-proxy-2.1.4/bin/browsermob-proxy',options=dict)\n",
        "server.start()\n",
        "proxy = server.create_proxy()\n",
        "\n",
        "chrome_options = webdriver.ChromeOptions()\n",
        "chrome_options.add_argument('--headless') #headless means no graphical user interface\n",
        "chrome_options.add_argument('--no-sandbox')\n",
        "chrome_options.add_argument('--disable-dev-shm-usage')\n",
        "chrome_options.add_argument(\"--ignore-certificate-errors\");\n",
        "\n",
        "# Configure Chrome to use the proxy\n",
        "chrome_options.add_argument('--proxy-server={0}'.format(proxy.proxy))\n",
        "driver = webdriver.Chrome(options=chrome_options)\n",
        "proxy.new_har(options={'captureHeaders':True, 'captureContent': True})\n",
        "\n",
        "#proxy.new_har\n",
        "driver.get(\"https://www.vidio.com/live/204-sctv\")\n",
        "WebDriverWait(driver, 3)\n",
        "proxy.har # returns a HAR\n",
        "for ent in proxy.har['log']['entries']:\n",
        "    print(ent['request']['url'])\n",
        "    print(ent['response']['status'])\n",
        "print(proxy.har)\n",
        "server.stop()\n",
        "driver.quit()\n",
        "# Capture and print requests in real-time\n",
        "\"\"\"try:\n",
        "    while True:\n",
        "        entries = driver.execute_cdp_cmd('Network.getAllFrames', {})\n",
        "        for entry in entries['frameTree']['childFrames']:\n",
        "            response = driver.execute_cdp_cmd('Network.getResponseBody', {'requestId': entry['frame']['id']})\n",
        "            print(response['url'], response['status'])\n",
        "except KeyboardInterrupt:\n",
        "    pass\n",
        "finally:\n",
        "    # Stop the BrowserMob Proxy server and close the browser\n",
        "    server.stop()\n",
        "    driver.quit()\"\"\"\n"
      ],
      "metadata": {
        "id": "RJEY1iMvcA95"
      },
      "execution_count": null,
      "outputs": []
    },
    {
      "cell_type": "code",
      "source": [
        "import requests\n",
        "response = requests.get(\"http://google.com\")\n",
        "print(response.status_code)"
      ],
      "metadata": {
        "colab": {
          "base_uri": "https://localhost:8080/"
        },
        "id": "sFs1YrWSoyt2",
        "outputId": "84752c95-a012-46e0-c3f4-37ca21354b6c"
      },
      "execution_count": 48,
      "outputs": [
        {
          "output_type": "stream",
          "name": "stdout",
          "text": [
            "200\n"
          ]
        }
      ]
    }
  ]
}