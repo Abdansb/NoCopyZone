{
  "nbformat": 4,
  "nbformat_minor": 0,
  "metadata": {
    "colab": {
      "provenance": [],
      "authorship_tag": "ABX9TyNzo1fkk8WpYc4jrStvZdkZ",
      "include_colab_link": true
    },
    "kernelspec": {
      "name": "python3",
      "display_name": "Python 3"
    },
    "language_info": {
      "name": "python"
    }
  },
  "cells": [
    {
      "cell_type": "markdown",
      "metadata": {
        "id": "view-in-github",
        "colab_type": "text"
      },
      "source": [
        "<a href=\"https://colab.research.google.com/github/Abdansb/NoCopyZone/blob/main/link_validation.ipynb\" target=\"_parent\"><img src=\"https://colab.research.google.com/assets/colab-badge.svg\" alt=\"Open In Colab\"/></a>"
      ]
    },
    {
      "cell_type": "code",
      "source": [
        "! pip install bs4\n",
        "! pip install selenium\n",
        "! apt-get update\n",
        "! apt install chromium-chromedriver\n",
        "! pip install pyvirtualdisplay\n",
        "! apt-get install xvfb\n",
        "! pip install ipython-autotime\n",
        "%load_ext autotime\n",
        "\n",
        "import re\n",
        "import html\n",
        "import json\n",
        "import time\n",
        "import requests\n",
        "import urllib3\n",
        "import logging\n",
        "import pandas as pd\n",
        "from bs4 import BeautifulSoup\n",
        "from selenium import webdriver\n",
        "from tqdm import tqdm\n",
        "from pyvirtualdisplay import Display\n",
        "from selenium import webdriver\n",
        "from selenium.webdriver.common.by import By"
      ],
      "metadata": {
        "colab": {
          "base_uri": "https://localhost:8080/"
        },
        "id": "KT0XumXapb6V",
        "outputId": "f9fab14d-0ab1-4136-9709-0f6c2f231247"
      },
      "execution_count": 1,
      "outputs": [
        {
          "output_type": "stream",
          "name": "stdout",
          "text": [
            "Collecting ipython-autotime\n",
            "  Downloading ipython_autotime-0.3.2-py2.py3-none-any.whl (7.0 kB)\n",
            "Requirement already satisfied: ipython in /usr/local/lib/python3.10/dist-packages (from ipython-autotime) (7.34.0)\n",
            "Requirement already satisfied: setuptools>=18.5 in /usr/local/lib/python3.10/dist-packages (from ipython->ipython-autotime) (67.7.2)\n",
            "Collecting jedi>=0.16 (from ipython->ipython-autotime)\n",
            "  Downloading jedi-0.19.1-py2.py3-none-any.whl (1.6 MB)\n",
            "\u001b[2K     \u001b[90m━━━━━━━━━━━━━━━━━━━━━━━━━━━━━━━━━━━━━━━━\u001b[0m \u001b[32m1.6/1.6 MB\u001b[0m \u001b[31m14.8 MB/s\u001b[0m eta \u001b[36m0:00:00\u001b[0m\n",
            "\u001b[?25hRequirement already satisfied: decorator in /usr/local/lib/python3.10/dist-packages (from ipython->ipython-autotime) (4.4.2)\n",
            "Requirement already satisfied: pickleshare in /usr/local/lib/python3.10/dist-packages (from ipython->ipython-autotime) (0.7.5)\n",
            "Requirement already satisfied: traitlets>=4.2 in /usr/local/lib/python3.10/dist-packages (from ipython->ipython-autotime) (5.7.1)\n",
            "Requirement already satisfied: prompt-toolkit!=3.0.0,!=3.0.1,<3.1.0,>=2.0.0 in /usr/local/lib/python3.10/dist-packages (from ipython->ipython-autotime) (3.0.43)\n",
            "Requirement already satisfied: pygments in /usr/local/lib/python3.10/dist-packages (from ipython->ipython-autotime) (2.16.1)\n",
            "Requirement already satisfied: backcall in /usr/local/lib/python3.10/dist-packages (from ipython->ipython-autotime) (0.2.0)\n",
            "Requirement already satisfied: matplotlib-inline in /usr/local/lib/python3.10/dist-packages (from ipython->ipython-autotime) (0.1.6)\n",
            "Requirement already satisfied: pexpect>4.3 in /usr/local/lib/python3.10/dist-packages (from ipython->ipython-autotime) (4.9.0)\n",
            "Requirement already satisfied: parso<0.9.0,>=0.8.3 in /usr/local/lib/python3.10/dist-packages (from jedi>=0.16->ipython->ipython-autotime) (0.8.3)\n",
            "Requirement already satisfied: ptyprocess>=0.5 in /usr/local/lib/python3.10/dist-packages (from pexpect>4.3->ipython->ipython-autotime) (0.7.0)\n",
            "Requirement already satisfied: wcwidth in /usr/local/lib/python3.10/dist-packages (from prompt-toolkit!=3.0.0,!=3.0.1,<3.1.0,>=2.0.0->ipython->ipython-autotime) (0.2.12)\n",
            "Installing collected packages: jedi, ipython-autotime\n",
            "Successfully installed ipython-autotime-0.3.2 jedi-0.19.1\n",
            "time: 410 ms (started: 2023-12-25 09:01:47 +00:00)\n"
          ]
        }
      ]
    },
    {
      "cell_type": "code",
      "source": [
        "#import columns A and C from Excel file\n",
        "df = pd.read_excel('/content/Copy of 231219_Digital_Content_Protection_Vidio_Appendix.xlsx',\n",
        "                   #skiprows=1,\n",
        "                   sheet_name='data',\n",
        "                   usecols='F',\n",
        "                   index_col = None )\n",
        "print(df[:10])"
      ],
      "metadata": {
        "colab": {
          "base_uri": "https://localhost:8080/"
        },
        "id": "5Ut9_8pLvl50",
        "outputId": "118f604e-6ad5-4f53-e395-75910bf75a54"
      },
      "execution_count": 2,
      "outputs": [
        {
          "output_type": "stream",
          "name": "stdout",
          "text": [
            "                                         Content URL\n",
            "0  https://www.facebook.com/61552914750614/videos...\n",
            "1  https://www.facebook.com/61552361257367/videos...\n",
            "2  https://www.facebook.com/100065268481709/video...\n",
            "3  https://www.facebook.com/61551633585049/videos...\n",
            "4  https://www.facebook.com/61553458406539/videos...\n",
            "5  https://www.facebook.com/61552300508309/videos...\n",
            "6  https://www.facebook.com/61552917830854/videos...\n",
            "7  https://www.facebook.com/61552938333393/videos...\n",
            "8  https://www.facebook.com/61552725683391/videos...\n",
            "9  https://www.facebook.com/61553042637294/videos...\n",
            "time: 18.5 s (started: 2023-12-25 09:01:47 +00:00)\n"
          ]
        }
      ]
    },
    {
      "cell_type": "code",
      "source": [
        "logging.getLogger(\"urllib3\").setLevel(logging.ERROR)\n",
        "urllib3.disable_warnings(urllib3.exceptions.InsecureRequestWarning)\n",
        "\n",
        "ranged_df = df[:10]\n",
        "headers={'User-Agent': 'Mozilla/5.0 (Windows NT 10.0; Win64; x64) AppleWebKit/537.36 (KHTML, like Gecko) Chrome/102.0.0.0 Safari/537.36'}\n",
        "\n",
        "\n",
        "def url_code_status(pandas_dataframe):\n",
        "  for index, row in pandas_dataframe.iterrows():\n",
        "    if \"facebook\" in row[\"Content URL\"]:\n",
        "      result = facebook_check(row[\"Content URL\"]) #change the function\n",
        "      print(f\"{list(df.columns)[0]}, {row['Content URL']}, {result}\")\n",
        "    else:\n",
        "      try:\n",
        "        response = requests.get(url = row[\"Content URL\"],\n",
        "                                allow_redirects=True,\n",
        "                                headers=headers,\n",
        "                                verify=False)\n",
        "\n",
        "        if response.status_code == 200:\n",
        "          result = string_check(row[\"Content URL\"])\n",
        "          print(f\"{list(df.columns)[0]}, {row['Content URL']}, {result}\")\n",
        "        else:\n",
        "          print(f\"{list(df.columns)[0]}, {row['Content URL']}, {response.status_code}\")\n",
        "\n",
        "\n",
        "      except Exception as e:\n",
        "          #print(f'[ERROR]: {e}')\n",
        "          print(f\"{list(df.columns)[0]}, {row['Content URL']}, ERROR\")\n",
        "          continue\n",
        "\n",
        "url_code_status(ranged_df)\n",
        "\n"
      ],
      "metadata": {
        "colab": {
          "base_uri": "https://localhost:8080/"
        },
        "id": "XtWgvidJq2aF",
        "outputId": "cfb517b6-99bd-49e0-b871-d2019985c786"
      },
      "execution_count": 148,
      "outputs": [
        {
          "output_type": "stream",
          "name": "stdout",
          "text": [
            "Content URL, https://www.facebook.com/61552914750614/videos/1534195557331569, Removed\n",
            "Content URL, https://www.facebook.com/61552361257367/videos/1376092353332770, Removed\n",
            "Content URL, https://www.facebook.com/100065268481709/videos/2004484139930686/, Removed\n",
            "Content URL, https://www.facebook.com/61551633585049/videos/891095192369613, Removed\n",
            "Content URL, https://www.facebook.com/61553458406539/videos/1384850198819936, Removed\n",
            "Content URL, https://www.facebook.com/61552300508309/videos/3592804284295715, Removed\n",
            "Content URL, https://www.facebook.com/61552917830854/videos/1277763172895432, Removed\n",
            "Content URL, https://www.facebook.com/61552938333393/videos/312002788324255, Removed\n",
            "Content URL, https://www.facebook.com/61552725683391/videos/1568217287337348, Removed\n",
            "Content URL, https://www.facebook.com/61553042637294/videos/866379821635035, Removed\n",
            "time: 35 s (started: 2023-12-25 14:36:04 +00:00)\n"
          ]
        }
      ]
    },
    {
      "cell_type": "markdown",
      "source": [
        "# Facebook"
      ],
      "metadata": {
        "id": "nNAf9gRWyWBX"
      }
    },
    {
      "cell_type": "code",
      "source": [
        "my_user_agent = \"Mozilla/5.0 (Windows NT 10.0; Win64; x64) AppleWebKit/537.36 (KHTML, like Gecko) Chrome/92.0.4515.159 Safari/537.36\"\n",
        "display = Display(visible=0, size=(320, 240)).start()  # visible=0\n",
        "chrome_options = webdriver.ChromeOptions()\n",
        "chrome_options.add_argument('--disable-extensions')\n",
        "chrome_options.add_argument('--profile-directory=Default')\n",
        "chrome_options.add_argument(\"--incognito\")\n",
        "chrome_options.add_argument(\"--disable-plugins-discovery\");\n",
        "chrome_options.add_argument(\"--start-maximized\")\n",
        "chrome_options.add_argument(\"--no-sandbox\");\n",
        "chrome_options.add_argument(\"--disable-dev-shm-usage\");\n",
        "driver = webdriver.Chrome(options=chrome_options)\n",
        "driver.delete_all_cookies()\n",
        "driver.set_window_size(800,800)\n",
        "driver.set_window_position(0,0)\n",
        "\n",
        "main_page = 'https://tv1.bioskop21official.com/nonton-eps/pertaruhan-the-series-season-1-episode-1/'\n",
        "def facebook_check(link):\n",
        "  driver.get(link)\n",
        "  time.sleep(2)\n",
        "  html = driver.page_source\n",
        "  driver.save_screenshot('screenie.png')\n",
        "  keyword = \"This Video Isn't Available Anymore\"\n",
        "  result = \"Removed\" if keyword in html else \"Active\"\n",
        "  #print(result)\n",
        "  return result\n",
        "\n",
        "#facebook_check(main_page)\n"
      ],
      "metadata": {
        "colab": {
          "base_uri": "https://localhost:8080/",
          "height": 53
        },
        "id": "D-8JOYzyg2iM",
        "outputId": "7a2fe2a1-522c-43db-cf3d-a0c32ef0300e"
      },
      "execution_count": 146,
      "outputs": [
        {
          "output_type": "execute_result",
          "data": {
            "text/plain": [
              "'Active'"
            ],
            "application/vnd.google.colaboratory.intrinsic+json": {
              "type": "string"
            }
          },
          "metadata": {},
          "execution_count": 146
        },
        {
          "output_type": "stream",
          "name": "stdout",
          "text": [
            "time: 7.2 s (started: 2023-12-25 14:28:36 +00:00)\n"
          ]
        }
      ]
    },
    {
      "cell_type": "code",
      "source": [
        "url_to_check = \"https://www.facebook.com/61552917830854/videos/1277763172895432\"\n",
        "\n",
        "def string_check(link):\n",
        "  keywords_to_search = [\n",
        "      \"missing\",\n",
        "      \"removed\",\n",
        "      \"doesn't exist\",\n",
        "      \"deleted\",\n",
        "      \"not found\",\n",
        "      \"page not found\",\n",
        "      \"404 error\",\n",
        "      \"content removed\",\n",
        "      \"no longer available\",\n",
        "      \"this page isn't available\",]\n",
        "\n",
        "  driver.get(link)\n",
        "  time.sleep(2)\n",
        "  html = driver.page_source\n",
        "  driver.save_screenshot('screenie.png')\n",
        "\n",
        "  if any(keyword.lower() in html.lower() for keyword in keywords_to_search):\n",
        "      result = \"Removed\"\n",
        "  else:\n",
        "      result = \"Active\"\n",
        "  return result\n",
        "\n",
        "\n",
        "string_check(url_to_check)\n",
        "\n"
      ],
      "metadata": {
        "colab": {
          "base_uri": "https://localhost:8080/",
          "height": 53
        },
        "id": "SIEAENtJP39J",
        "outputId": "19b967cb-ffb9-496a-a1b3-b72b2f084acd"
      },
      "execution_count": 137,
      "outputs": [
        {
          "output_type": "execute_result",
          "data": {
            "text/plain": [
              "'Removed'"
            ],
            "application/vnd.google.colaboratory.intrinsic+json": {
              "type": "string"
            }
          },
          "metadata": {},
          "execution_count": 137
        },
        {
          "output_type": "stream",
          "name": "stdout",
          "text": [
            "time: 4 s (started: 2023-12-25 14:13:52 +00:00)\n"
          ]
        }
      ]
    },
    {
      "cell_type": "code",
      "source": [
        "print(html)"
      ],
      "metadata": {
        "id": "7knWFeadFysM"
      },
      "execution_count": null,
      "outputs": []
    },
    {
      "cell_type": "markdown",
      "source": [
        "# Print page source"
      ],
      "metadata": {
        "id": "T43viobgIgd7"
      }
    },
    {
      "cell_type": "code",
      "source": [
        "import requests\n",
        "\n",
        "r = requests.get(\"https://www.facebook.com/100080210871960/videos/2088931548125338\",\n",
        "                 allow_redirects=True,\n",
        "                 headers=headers,\n",
        "                 verify=False)\n",
        "print(r.text)"
      ],
      "metadata": {
        "id": "viswcbZdCO7z"
      },
      "execution_count": null,
      "outputs": []
    },
    {
      "cell_type": "markdown",
      "source": [
        "# Selenium Testing"
      ],
      "metadata": {
        "id": "EvsWTrCoUWH-"
      }
    },
    {
      "cell_type": "code",
      "source": [],
      "metadata": {
        "id": "0SAH1YXEUOPb"
      },
      "execution_count": null,
      "outputs": []
    },
    {
      "cell_type": "code",
      "source": [
        "\n",
        "from selenium.common.exceptions import StaleElementReferenceException\n",
        "from selenium.common.exceptions import WebDriverException\n",
        "from selenium.common.exceptions import InvalidSessionIdException\n",
        "from selenium.common.exceptions import InvalidArgumentException\n",
        "from selenium.common.exceptions import ElementNotInteractableException\n"
      ],
      "metadata": {
        "colab": {
          "base_uri": "https://localhost:8080/"
        },
        "id": "XCOQdMsFUjGm",
        "outputId": "6744a459-551b-49ad-efd0-a0db99239205"
      },
      "execution_count": 45,
      "outputs": [
        {
          "output_type": "stream",
          "name": "stdout",
          "text": [
            "time: 1.37 ms (started: 2023-12-25 10:05:54 +00:00)\n"
          ]
        }
      ]
    },
    {
      "cell_type": "code",
      "source": [],
      "metadata": {
        "id": "qLkv8OzdgEYP"
      },
      "execution_count": null,
      "outputs": []
    },
    {
      "cell_type": "code",
      "source": [
        "my_user_agent = \"Mozilla/5.0 (Windows NT 10.0; Win64; x64) AppleWebKit/537.36 (KHTML, like Gecko) Chrome/92.0.4515.159 Safari/537.36\"\n",
        "\n",
        "chrome_options = webdriver.ChromeOptions()\n",
        "chrome_options.add_argument('--headless') #headless means no graphical user interface\n",
        "chrome_options.add_argument('--no-sandbox')\n",
        "chrome_options.add_argument('--disable_gpu')\n",
        "chrome_options.add_argument('--disable-dev-shm-usage')\n",
        "chrome_options.add_argument(f\"--user-agent={my_user_agent}\")\n",
        "chrome_options.add_argument('--enable-javascript')\n",
        "\n",
        "chrome_options.add_argument(\"start-maximized\")\n",
        "chrome_options.add_experimental_option(\"excludeSwitches\", [\"enable-automation\"])\n",
        "chrome_options.add_experimental_option('useAutomationExtension', False)\n",
        "chrome_options.add_argument('--disable-blink-features=AutomationControlled')\n",
        "\n",
        "driver = webdriver.Chrome(options=chrome_options)\n",
        "time.sleep(5)\n",
        "main_page = 'https://www.facebook.com/100080210871960/videos/2088931548125338'\n",
        "driver.get(main_page)\n",
        "html = driver.page_source\n",
        "\n",
        "soup = BeautifulSoup(html)\n",
        "print(soup)\n"
      ],
      "metadata": {
        "id": "Y664dD1EU0fe"
      },
      "execution_count": null,
      "outputs": []
    },
    {
      "cell_type": "markdown",
      "source": [
        "# Test Google ISP"
      ],
      "metadata": {
        "id": "NkjoBYCkULMA"
      }
    },
    {
      "cell_type": "code",
      "source": [
        "!curl -s https://packagecloud.io/install/repositories/ookla/speedtest-cli/script.deb.sh | sudo bash\n",
        "!sudo apt-get install speedtest\n",
        "! printf 'YES\\n' | speedtest"
      ],
      "metadata": {
        "colab": {
          "base_uri": "https://localhost:8080/"
        },
        "id": "V_KCyvFwG5XY",
        "outputId": "82dfff65-564a-4a37-e110-05200403ab29"
      },
      "execution_count": 102,
      "outputs": [
        {
          "output_type": "stream",
          "name": "stdout",
          "text": [
            "==============================================================================\n",
            "\n",
            "You may only use this Speedtest software and information generated\n",
            "from it for personal, non-commercial use, through a command line\n",
            "interface on a personal computer. Your use of this software is subject\n",
            "to the End User License Agreement, Terms of Use and Privacy Policy at\n",
            "these URLs:\n",
            "\n",
            "\thttps://www.speedtest.net/about/eula\n",
            "\thttps://www.speedtest.net/about/terms\n",
            "\thttps://www.speedtest.net/about/privacy\n",
            "\n",
            "==============================================================================\n",
            "\n",
            "Do you accept the license? [type YES to accept]: License acceptance recorded. Continuing.\n",
            "\n",
            "\n",
            "   Speedtest by Ookla\n",
            "\n",
            "      Server: Farmers Telephone Cooperative, Inc. - Sumter, SC (id: 6806)\n",
            "         ISP: Google Cloud\n",
            "Idle Latency:    19.97 ms   (jitter: 0.14ms, low: 19.75ms, high: 20.05ms)\n",
            "    Download:  6002.29 Mbps (data used: 8.4 GB)                                                   \n",
            "                 88.22 ms   (jitter: 23.35ms, low: 18.75ms, high: 182.10ms)\n",
            "      Upload:   943.55 Mbps (data used: 1.1 GB)                                                   \n",
            "                120.51 ms   (jitter: 36.98ms, low: 19.68ms, high: 187.68ms)\n",
            " Packet Loss: Not available.\n",
            "  Result URL: https://www.speedtest.net/result/c/4160d226-3684-4d77-94c4-fafe287fa4ec\n",
            "time: 25.7 s (started: 2023-12-25 08:36:16 +00:00)\n"
          ]
        }
      ]
    },
    {
      "cell_type": "code",
      "source": [],
      "metadata": {
        "id": "Wu_NTl6uHMgt"
      },
      "execution_count": null,
      "outputs": []
    }
  ]
}