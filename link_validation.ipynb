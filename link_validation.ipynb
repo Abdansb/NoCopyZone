{
  "nbformat": 4,
  "nbformat_minor": 0,
  "metadata": {
    "colab": {
      "provenance": [],
      "authorship_tag": "ABX9TyMK6U2G8KUVGm24ZllZQF8K",
      "include_colab_link": true
    },
    "kernelspec": {
      "name": "python3",
      "display_name": "Python 3"
    },
    "language_info": {
      "name": "python"
    }
  },
  "cells": [
    {
      "cell_type": "markdown",
      "metadata": {
        "id": "view-in-github",
        "colab_type": "text"
      },
      "source": [
        "<a href=\"https://colab.research.google.com/github/Abdansb/NoCopyZone/blob/main/link_validation.ipynb\" target=\"_parent\"><img src=\"https://colab.research.google.com/assets/colab-badge.svg\" alt=\"Open In Colab\"/></a>"
      ]
    },
    {
      "cell_type": "code",
      "source": [
        "! pip install bs4\n",
        "! pip install selenium\n",
        "! apt-get update\n",
        "! apt install chromium-chromedriver\n",
        "! pip install pyvirtualdisplay\n",
        "! apt-get install xvfb\n",
        "! pip install ipython-autotime\n",
        "%load_ext autotime\n",
        "\n",
        "import re\n",
        "import html\n",
        "import json\n",
        "import time\n",
        "import requests\n",
        "import random\n",
        "import urllib3\n",
        "import logging\n",
        "import pandas as pd\n",
        "from bs4 import BeautifulSoup\n",
        "from selenium import webdriver\n",
        "from tqdm import tqdm\n",
        "from pyvirtualdisplay import Display\n",
        "from selenium import webdriver\n",
        "from selenium.webdriver.common.by import By"
      ],
      "metadata": {
        "id": "KT0XumXapb6V"
      },
      "execution_count": null,
      "outputs": []
    },
    {
      "cell_type": "markdown",
      "source": [
        "# Load link dataset"
      ],
      "metadata": {
        "id": "gTfSw9L8avSb"
      }
    },
    {
      "cell_type": "code",
      "source": [
        "#import columns A and C from Excel file\n",
        "df = pd.read_excel('/content/Copy of 231219_Digital_Content_Protection_Vidio_Appendix.xlsx',\n",
        "                   sheet_name='data',\n",
        "                   usecols='F',\n",
        "                   index_col = None )\n",
        "print(df[:10])"
      ],
      "metadata": {
        "colab": {
          "base_uri": "https://localhost:8080/"
        },
        "id": "5Ut9_8pLvl50",
        "outputId": "469b7082-39d8-4a37-f6dd-9e85dd7100f7"
      },
      "execution_count": 2,
      "outputs": [
        {
          "output_type": "stream",
          "name": "stdout",
          "text": [
            "                                         Content URL\n",
            "0  https://www.facebook.com/61552914750614/videos...\n",
            "1  https://www.facebook.com/61552361257367/videos...\n",
            "2  https://www.facebook.com/100065268481709/video...\n",
            "3  https://www.facebook.com/61551633585049/videos...\n",
            "4  https://www.facebook.com/61553458406539/videos...\n",
            "5  https://www.facebook.com/61552300508309/videos...\n",
            "6  https://www.facebook.com/61552917830854/videos...\n",
            "7  https://www.facebook.com/61552938333393/videos...\n",
            "8  https://www.facebook.com/61552725683391/videos...\n",
            "9  https://www.facebook.com/61553042637294/videos...\n",
            "time: 21.3 s (started: 2023-12-25 18:35:40 +00:00)\n"
          ]
        }
      ]
    },
    {
      "cell_type": "markdown",
      "source": [
        "# Main"
      ],
      "metadata": {
        "id": "qneu8vhAaTO3"
      }
    },
    {
      "cell_type": "code",
      "source": [
        "user_agents = [\n",
        "\t'Mozilla/5.0 (Windows NT 10.0; Win64; x64) AppleWebKit/537.36 (KHTML, like Gecko) Chrome/109.0.0.0 Safari/537.36',\n",
        "  'Mozilla/5.0 (Macintosh; Intel Mac OS X 10_15_7) AppleWebKit/537.36 (KHTML, like Gecko) Chrome/109.0.0.0 Safari/537.36',\n",
        "  'Mozilla/5.0 (Windows NT 10.0; Win64; x64) AppleWebKit/537.36 (KHTML, like Gecko) Chrome/108.0.0.0 Safari/537.36',\n",
        "  'Mozilla/5.0 (Macintosh; Intel Mac OS X 10_15_7) AppleWebKit/537.36 (KHTML, like Gecko) Chrome/108.0.0.0 Safari/537.36',\n",
        "  'Mozilla/5.0 (X11; Linux x86_64) AppleWebKit/537.36 (KHTML, like Gecko) Chrome/108.0.0.0 Safari/537.36',\n",
        "  'Mozilla/5.0 (Macintosh; Intel Mac OS X 10_15_7) AppleWebKit/605.1.15 (KHTML, like Gecko) Version/16.1 Safari/605.1.15',\n",
        "  'Mozilla/5.0 (Macintosh; Intel Mac OS X 13_1) AppleWebKit/605.1.15 (KHTML, like Gecko) Version/16.1 Safari/605.1.15',\n",
        "  'Mozilla/5.0 (Windows NT 10.0; Win64; x64) AppleWebKit/537.36 (KHTML, like Gecko) Chrome/92.0.4515.159 Safari/537.36'\n",
        "]\n",
        "user_agent = random.choice(user_agents)\n",
        "\n",
        "display = Display(visible=0, size=(320, 240)).start()  # visible=0\n",
        "chrome_options = webdriver.ChromeOptions()\n",
        "chrome_options.add_argument('--disable-extensions')\n",
        "chrome_options.add_argument('--profile-directory=Default')\n",
        "chrome_options.add_argument(\"--incognito\")\n",
        "chrome_options.add_argument(\"--disable-plugins-discovery\");\n",
        "chrome_options.add_argument(\"--start-maximized\")\n",
        "chrome_options.add_argument(\"--no-sandbox\");\n",
        "chrome_options.add_argument(\"--disable-dev-shm-usage\");\n",
        "chrome_options.add_argument('--disable-popup-blocking')\n",
        "chrome_options.add_argument(f\"user-agent={user_agent}\")\n",
        "\n",
        "def string_check(link):\n",
        "  keywords_to_search = [\n",
        "      \"missing\",\n",
        "      \"removed\",\n",
        "      \"doesn't exist\",\n",
        "      \"deleted\",\n",
        "      \"not found\",\n",
        "      \"forbidden\",\n",
        "      \"blocked\",\n",
        "      \"page not found\",\n",
        "      \"404 error\",\n",
        "      \"content removed\",\n",
        "      \"no longer available\",\n",
        "      \"this page isn't available\",]\n",
        "  user_agent = random.choice(user_agents)\n",
        "  chrome_options.add_argument(f\"user-agent={user_agent}\")\n",
        "  driver = webdriver.Chrome(options=chrome_options)\n",
        "  driver.delete_all_cookies()\n",
        "  driver.set_window_size(800,800)\n",
        "  driver.set_window_position(0,0)\n",
        "\n",
        "  driver.get(link)\n",
        "  time.sleep(2)\n",
        "  html = driver.page_source\n",
        "  #print(html)\n",
        "  driver.save_screenshot('screenie.png')\n",
        "\n",
        "  if any(keyword.lower() in html.lower() for keyword in keywords_to_search):\n",
        "      result = \"Removed\"\n",
        "  else:\n",
        "      result = \"Active\"\n",
        "\n",
        "  return result\n",
        "\n",
        "\n",
        "#url_to_check = \"https://tv1.bioskop21official.com/nonton-eps/pertaruhan-the-series-season-1-episode-1/\"\n",
        "#string_check(url_to_check)\n",
        "\n"
      ],
      "metadata": {
        "colab": {
          "base_uri": "https://localhost:8080/"
        },
        "id": "SIEAENtJP39J",
        "outputId": "2b801fd7-9ab5-4152-be28-cc869bdfa495"
      },
      "execution_count": 17,
      "outputs": [
        {
          "output_type": "stream",
          "name": "stdout",
          "text": [
            "time: 90.5 ms (started: 2023-12-25 18:51:30 +00:00)\n"
          ]
        }
      ]
    },
    {
      "cell_type": "code",
      "source": [
        "import csv\n",
        "\n",
        "def append_to_csv(input_string):\n",
        "    # Split the input string into parts\n",
        "    parts = input_string.split(', ')\n",
        "\n",
        "    # Extract values\n",
        "    source = parts[0]\n",
        "    url = parts[1]\n",
        "    status = parts[2]\n",
        "    # Open the CSV file in append mode\n",
        "    with open(\"Output.csv\", mode='a', newline='', encoding='utf-8') as csv_file:\n",
        "        # Create a CSV writer object\n",
        "        csv_writer = csv.writer(csv_file)\n",
        "        # Append the values to the CSV file\n",
        "        csv_writer.writerow([source, url, status])\n",
        "\n",
        "# Example usage\n",
        "#input_string = \"Content URL, https://www.facebook.com/100080210871960/videos/2088931548125338, Removed\"\n",
        "\n",
        "# Call the function to append the input string to the CSV file\n",
        "#append_to_csv(input_string)\n"
      ],
      "metadata": {
        "colab": {
          "base_uri": "https://localhost:8080/"
        },
        "id": "m9dHNJCY3XKA",
        "outputId": "f9e11923-7fa7-4bcc-890e-1c874af94183"
      },
      "execution_count": 7,
      "outputs": [
        {
          "output_type": "stream",
          "name": "stdout",
          "text": [
            "time: 997 µs (started: 2023-12-25 18:37:29 +00:00)\n"
          ]
        }
      ]
    },
    {
      "cell_type": "code",
      "source": [
        "urllib3.disable_warnings(urllib3.exceptions.InsecureRequestWarning)\n",
        "\n",
        "ranged_df = df[99:150]\n",
        "headers={'User-Agent': 'Mozilla/5.0 (Windows NT 10.0; Win64; x64) AppleWebKit/537.36 (KHTML, like Gecko) Chrome/102.0.0.0 Safari/537.36'}\n",
        "\n",
        "\n",
        "def url_code_status(pandas_dataframe):\n",
        "  for index, row in pandas_dataframe.iterrows():\n",
        "    try:\n",
        "      response = requests.get(url = row[\"Content URL\"],\n",
        "                              allow_redirects=False,\n",
        "                              headers=headers,\n",
        "                              verify=False)\n",
        "\n",
        "      if response.status_code == 200:\n",
        "        result = string_check(row[\"Content URL\"])\n",
        "        print(f\"{list(df.columns)[0]}, {row['Content URL']}, {result}\")\n",
        "        append_to_csv(f\"{list(df.columns)[0]}, {row['Content URL']}, {result}\")\n",
        "      else:\n",
        "        print(f\"{list(df.columns)[0]}, {row['Content URL']}, {response.status_code}\")\n",
        "        append_to_csv(f\"{list(df.columns)[0]}, {row['Content URL']}, {response.status_code}\")\n",
        "\n",
        "\n",
        "    except Exception as e:\n",
        "        #print(f'[ERROR]: {e}')\n",
        "        print(f\"{list(df.columns)[0]}, {row['Content URL']}, ERROR\")\n",
        "        append_to_csv(f\"{list(df.columns)[0]}, {row['Content URL']}, ERROR\")\n",
        "        continue\n",
        "\n",
        "url_code_status(ranged_df)\n",
        "\n"
      ],
      "metadata": {
        "colab": {
          "base_uri": "https://localhost:8080/"
        },
        "id": "XtWgvidJq2aF",
        "outputId": "fd064878-5a16-438a-e6d3-a383f6617078"
      },
      "execution_count": 20,
      "outputs": [
        {
          "output_type": "stream",
          "name": "stdout",
          "text": [
            "Content URL, https://tapenoads.com/v/YW1oLXlz4XSvboQ/NGEFILM21.Married.with.Senior.Ep.06.720p.mp4, 404\n",
            "Content URL, https://hncrirpotl4l.lions-vidcdn.com/hls2/01/00845/cmcp6r94iqsh_,l,n,h,.urlset/index-f1-v1-a1.m3u8?t=NhGEfjUL9w1rfRAFJ4W4odHM2fI8AUaTJU02J3l_6SE&s=1701669501&e=129600&f=4229998&srv=rM7JzcUItghM&i=0.4&sp=1500&p1=rM7JzcUItghM&p2=rM7JzcUItghM&asn=24961, 403\n",
            "Content URL, https://qcgdhivljuj6.lions-vidcdn.com/hls2/01/00845/9zi85oups8h5_,l,n,h,.urlset/index-f1-v1-a1.m3u8?t=Ry6pcDaqvsmRTWZbCy5r_l52u23ssvxRLBguo3fqqWE&s=1701669509&e=129600&f=4229999&srv=rM7JzcUItghM&i=0.4&sp=1500&p1=rM7JzcUItghM&p2=rM7JzcUItghM&asn=24961, 403\n",
            "Content URL, https://98zd3iu9j1s8.lions-vidcdn.com/hls2/01/00846/o8yblk20j5ep_,l,n,h,.urlset/index-f1-v1-a1.m3u8?t=RqCL8lYd0HOUC-I9k4jvuBW_M9lHm-XOw8HXPT1SH3U&s=1701669524&e=129600&f=4230000&srv=rM7JzcUItghM&i=0.4&sp=1500&p1=rM7JzcUItghM&p2=rM7JzcUItghM&asn=24961, 403\n",
            "Content URL, https://pjg3itk8bndw.lions-vidcdn.com/hls2/01/00846/5j7y8il9bgh8_,l,n,h,.urlset/index-f1-v1-a1.m3u8?t=RrHuoNCtI-3Ax62jOBRXj688_xK9E0yA00JR95jCznc&s=1701669554&e=129600&f=4230001&srv=rM7JzcUItghM&i=0.4&sp=1500&p1=rM7JzcUItghM&p2=rM7JzcUItghM&asn=24961, 403\n",
            "Content URL, https://gy3yju69k6w5.lions-vidcdn.com/hls2/01/00846/3n82clxr8i83_,l,n,h,.urlset/index-f1-v1-a1.m3u8?t=Uodcknnz2ZbUbu12DcBgC_noh_-oWoZNOvNPXj1y4rQ&s=1701669549&e=129600&f=4230008&srv=rM7JzcUItghM&i=0.4&sp=1500&p1=rM7JzcUItghM&p2=rM7JzcUItghM&asn=24961, 403\n",
            "Content URL, https://bngrhjfpfgg2.lions-vidcdn.com/hls2/01/00846/x1ydp4rpentw_,l,n,h,.urlset/index-f1-v1-a1.m3u8?t=C2539O0aGPWCg5GlOAvmX4BLJXW4Z2V5NqKTDSBKjdY&s=1701669545&e=129600&f=4230009&srv=rM7JzcUItghM&i=0.4&sp=1500&p1=rM7JzcUItghM&p2=rM7JzcUItghM&asn=24961, 403\n",
            "Content URL, https://gy3yju69k6w5.lions-vidcdn.com/hls2/01/00846/3x18iyw372s1_,l,n,h,.urlset/index-f1-v1-a1.m3u8?t=J5FOO-8re30yTVeJoQ90VWvGdY9L2kxRwjDx1Pr-MbI&s=1701669540&e=129600&f=4230010&srv=rM7JzcUItghM&i=0.4&sp=1500&p1=rM7JzcUItghM&p2=rM7JzcUItghM&asn=24961, 403\n",
            "Content URL, https://pjg3itk8bndw.lions-vidcdn.com/hls2/01/00846/yqmvw6a77h31_,l,n,h,.urlset/index-f1-v1-a1.m3u8?t=8nS65TiSHmuuuB0cC5e3WvRev2Z4f_puITe89ta5tiY&s=1701669531&e=129600&f=4230013&srv=rM7JzcUItghM&i=0.4&sp=1500&p1=rM7JzcUItghM&p2=rM7JzcUItghM&asn=24961, 403\n",
            "Content URL, https://hls20-eu.zcdn.stream/add0e25eb462532cf2bbf23dd82584c6/2023-03-11/360.m3u8?token=f547851f2d53f209d31299e1d99818b4&client=6cd79b59e67dd87f4e5603f1c55c6d14&expires=1701698667&type=edge&node=TnBOTpFu9iesGpkiRo3DvNuhv7b3wza-cmN1iohzAtGt89Qjl4PuZ1Ko8AoBx38s1aY1ZCJmFy5UUsN6NP0Gn5T9UkAW6fI3wLtMZAUbkLAzmAxfWn-DfJHh2crtB_p1, 403\n",
            "Content URL, https://hls20-eu.zcdn.stream/7d2851f1d5b3e9f66296a1e61f588905/2023-03-11/720.m3u8?token=c14a2b262a7e6e2c1c4e1eb6de030c09&client=6cd79b59e67dd87f4e5603f1c55c6d14&expires=1701698640&type=edge&node=Gix4Bq3ISRGlO9g5o-97THZ_8tSy9Qwqp1RSElyaKbwyoAq7_4GGynYe3IRQqhwo2Nkisxxf3rBFzWbXsclfKRs0E5_TOf3qxedMCoNa_FHYcgfPOw3TgdKtKgQmxSq5, 403\n",
            "Content URL, https://hls20-eu.zcdn.stream/33de7c40ea0ddb032c3e219c1d956a9c/2023-03-11/360.m3u8?token=ce5612050449891bf40e8d66dfea79a5&client=6cd79b59e67dd87f4e5603f1c55c6d14&expires=1701698696&type=edge&node=_f5G9Ss14UX8dy_Q61-hAWDr59egMXficfGXtQYp9KdnM92LbtTdbKfV3ngwNokvfhTx9BwLSlTMlnZEWhd-JIv_AQoIZ6crQtkwIxDl9St46Af2W6s27jh7jXaKB5AN, 403\n",
            "Content URL, https://hls20-eu.zcdn.stream/eb32bcc8437afaaf29dddc7ed029bc92/2023-03-11/360.m3u8?token=06771c67f77dc66eca427651b646d284&client=6cd79b59e67dd87f4e5603f1c55c6d14&expires=1701698661&type=edge&node=8HkTlN6axEBco8WFwvCM7c3__DvsUuJVjUNuqJf57wXrla07mEuUuncCNhhlZ-uObYIONeHggQw71f_F_tGhEz3S90dR5_-zfc1wWm7y1Na3sr0W_oT9IvO3bOAhGmVt, 403\n",
            "Content URL, https://hls20-eu.zcdn.stream/1fb6150fc2b5517468110b8bbfd1a685/2023-03-11/720.m3u8?token=70bb50c33e5976b84f0aa805efb3f710&client=6cd79b59e67dd87f4e5603f1c55c6d14&expires=1701698679&type=edge&node=eOQ0VfWrvpt3ul8AC1-qKToD5mI-xFd2ESeCzm1P21T_-jNsIc-zL7L7e-diB0V8k-5g14_cZyuVJaU74Vs2SWMvZIjypa92QsZrA6BM9jg4-UHtB7I8I-BxmE9EclFw, 403\n",
            "Content URL, https://hls20-eu.zcdn.stream/c47a05b2f32c34d5667a041672aac505/2023-03-11/360.m3u8?token=ce5612050449891bf40e8d66dfea79a5&client=6cd79b59e67dd87f4e5603f1c55c6d14&expires=1701698696&type=edge&node=6k-xizArcc6Id5RtMU77MpWe8rn47_uuSggZ7LLGBQj-okBvPk0tusF4XkZlvG2PLj7qTxLDm6Dhz5V46WA2J2XQeFIfb4YWSgDDzVsNq-luT5dNpyvpYiEL3McwbHda, 403\n",
            "Content URL, https://hls20-eu.zcdn.stream/0d0f810a53c81d52f045e665502bc9ac/2023-03-11/360.m3u8?token=25a80f31efbbd0f30d111060cbfe30af&client=6cd79b59e67dd87f4e5603f1c55c6d14&expires=1701698707&type=edge&node=vnhgSDu8s7UUnl0vNO8z5KY6q3MQPl-ze0EpI3pY5RwWedmS6DBfl7bWlVhMoz_ZWd8JWCFE02z-9yzGUJqDl3o3lvw1jB54B-4_1xTeKJOvfaDDwFnhCnGC2KtMlArK, 403\n",
            "Content URL, https://hls19-eu.zcdn.stream/55baee4f9b4f93ed80d93c3acfdd387f/2023-03-11/720.m3u8?token=06771c67f77dc66eca427651b646d284&client=6cd79b59e67dd87f4e5603f1c55c6d14&expires=1701698661&type=edge&node=c08etFnI5q1XbrDum-nPtb92xOG9oKwIKgCDXMYXv4o9ki5RIEqavp55jbJcPDXVdEHxwkxnf0hFz0cXfBRM8VQLQNiJbiJaE6NOecFk3FlCE8rBnKtaogW8FHkNM4qJ, 403\n",
            "Content URL, https://hls5-eu.zcdn.stream/bb98b7407b5612acff38e86e711cf4d7/2022-06-18/1080.m3u8?token=7124e48bedb05b872fee0beb2ea18dda&client=6cd79b59e67dd87f4e5603f1c55c6d14&expires=1701699553&type=edge&node=QwU0FTxH6p2IUMJhFK5MmHoJY-Bca0QmQ66-8qqQ07tUJPOMnRgCrtPfTSGQvEHMB-LndeBzrDYPZBDaAoapZJmekUqw9galhZu-z7kK23mquGZE8QRLAdc_dw3wZVpE, 403\n",
            "Content URL, https://hls8-eu.zcdn.stream/320bd79cc421b63767496dc479aadda5/2022-06-25/video.m3u8?auth=a56125d0572222e7fe0d34e0f90a5295&expires=1701699560&type=edge&node=nf_lNqSUOJtIp8lvcI5udE9gSni9JZA6QCiyS8frvgG6qu4CmGXSun8e-Rl34uBRZfXJuNAvFVmrgAgcsnSDcwBmarnb-IFZZbV7M0Rfgvnh66X--FUpLnsSfC7P9c5Y, 403\n",
            "Content URL, https://hls1-eu.zcdn.stream/fe95f004d31399281f7067068ccedc82/2022-07-02/1080.m3u8?token=3311229941fefffbfbc6b33d3b511315&client=6cd79b59e67dd87f4e5603f1c55c6d14&expires=1701699564&type=edge&node=HzCM_2HO54V6eG-xDSilS_yGr-5bc5NTftcx8VMjZvQ0cLeW2q3emKmmjJ5TZz-9BtiOeiRxeuf83T_wZdaH0x_9wj9cAF_5tSuZH4NsFxpYROcfoBP0Lfm3vlhzKVnu, 403\n",
            "Content URL, https://hls9-eu.zcdn.stream/1317cd8aeb74763ed25cd8fdd03b4571/2022-07-09/1080.m3u8?token=dc14255a40b30a831ce0469705e82683&client=6cd79b59e67dd87f4e5603f1c55c6d14&expires=1701699561&type=edge&node=ptzyQtDqvZ-6gR7jmNYxV5go43yXGNV203we6CGtGV9IsFMZq45wcD2W_IIPQVgWwy3OhKIUEdHodzg5Vic7tAAlUVn0m-iIchYAjn_tNFxOkvnLFujpIZ0la0fMo-N2, 403\n",
            "Content URL, https://hls2-eu.zcdn.stream/d66c02ef0a740f53957b0192e7491cf3/2022-07-15/1080.m3u8?token=79bb3179342c4c7e456c171a6d27a305&client=6cd79b59e67dd87f4e5603f1c55c6d14&expires=1701699537&type=edge&node=vB6T-lmhgcSggfdLMxEUstOz-yDOzTFe2OtdVLGKeEw-VhbZ0ZOdxbERyajGTeiCuo28b4QIM89hF7EEFrRIJDMKAVVGYvQPX1PnVuqVHnJYkHj9HYvOXeVjCBJIWOXe, 403\n",
            "Content URL, https://p78gzx2c.sw-cdnstream.com/hls2/01/01979/vchxu7alnv7j_n/index-v1-a1.m3u8?t=1HfRerSsgmvlOvuRYKqs9FYksNCM3RD4EuuuV7oQBOM&s=1701671459&e=129600&f=9896291&srv=hckwyaosxjmw&i=0.4&sp=500&p1=hckwyaosxjmw&p2=hckwyaosxjmw&asn=63023, 403\n",
            "Content URL, https://llyndaq6h3uj.sw-cdnstream.com/hls2/01/01979/jfg8vz4vi8sw_n/index-v1-a1.m3u8?t=0JWhtbSl8W6WFNDtPtq4ZZDqrcGem2CcU_5SYrEpRSA&s=1701671461&e=129600&f=9896282&srv=tbzewldftrgq&i=0.4&sp=500&p1=tbzewldftrgq&p2=tbzewldftrgq&asn=63023, 403\n",
            "Content URL, https://t3hik4wle8.sw-cdnstream.com/hls2/01/02078/rhi8w2tx97gw_n/index-v1-a1.m3u8?t=qvoQgx7YcMzCpOcO6uys0NOe97HlbehfUbXwAmzNaNI&s=1701671467&e=129600&f=10394010&srv=pyradpcbsdns&i=0.0&sp=500&p1=pyradpcbsdns&p2=pyradpcbsdns&asn=63023, 403\n",
            "Content URL, https://7ieciod7jz.sw-cdnstream.com/hls2/01/02142/yf325v8p5k0c_h/index-v1-a1.m3u8?t=9JP0sWdIZCXnutQe_oNaFN9Q_2vy0plTXJMepz3-8Oo&s=1701671561&e=129600&f=10711011&srv=atzyrmiffopd&i=0.4&sp=500&p1=atzyrmiffopd&p2=atzyrmiffopd&asn=63023, 403\n",
            "Content URL, https://lgmks4ic.sw-cdnstream.com/hls2/01/02234/cx4xn9o9bhkp_h/index-v1-a1.m3u8?t=0Nx0S-WQCTUDdgDMT-BNHj9EVCXM-0bYxTra8ml7MOo&s=1701671472&e=129600&f=11173869&srv=lrphxnueqxzy&i=0.4&sp=500&p1=lrphxnueqxzy&p2=lrphxnueqxzy&asn=63023, 403\n",
            "Content URL, https://j4higu6x.sw-cdnstream.com/hls2/01/02276/g9gss729g0ci_h/index-v1-a1.m3u8?t=YRYExdSNF48ywGKc1mtDwd01qJEnZ1E9ztd1f518T9w&s=1701671478&e=129600&f=11380507&srv=tszfjzanyeke&i=0.4&sp=500&p1=tszfjzanyeke&p2=tszfjzanyeke&asn=63023, 403\n",
            "Content URL, https://mj8qej9w.sw-cdnstream.com/hls2/01/02363/3r6lpz95rl4g_h/index-v1-a1.m3u8?t=rdBWEf6IAc-fZP8FeQkaXpgySxb_2RsrC-bW0TmAXSk&s=1701671483&e=129600&f=11817680&srv=cqjopqtdozuz&i=0.4&sp=500&p1=cqjopqtdozuz&p2=cqjopqtdozuz&asn=63023, 403\n",
            "Content URL, https://fq97k6f9wh.sw-cdnstream.com/hls2/01/02363/rhmy9dghuo3c_h/index-v1-a1.m3u8?t=Ja6HSHDffkDmSA1vZiYWyR1mqbxA87SuXYB8Uu3f5xM&s=1701671486&e=129600&f=11817678&srv=cqjopqtdozuz&i=0.0&sp=500&p1=cqjopqtdozuz&p2=cqjopqtdozuz&asn=63023, 403\n",
            "Content URL, https://tv.anikor.icu/married-with-senior-episode-6/, 301\n",
            "Content URL, https://185.217.95.48/pertaruhan-the-series-episode-1/, 404\n",
            "Content URL, https://185.217.95.48/pertaruhan-the-series-episode-2/, 404\n",
            "Content URL, https://185.217.95.48/pertaruhan-the-series-episode-3/, 404\n",
            "Content URL, https://185.217.95.48/pertaruhan-the-series-episode-4/, 404\n",
            "Content URL, https://185.217.95.48/pertaruhan-the-series-episode-5/, 404\n",
            "Content URL, https://185.217.95.48/pertaruhan-the-series-episode-6/, 404\n",
            "Content URL, https://185.217.95.48/pertaruhan-the-series-episode-7/, 404\n",
            "Content URL, https://185.217.95.48/pertaruhan-the-series-episode-8-end/, 404\n",
            "Content URL, https://tv1.bioskop21official.com/nonton-eps/pertaruhan-the-series-season-1-episode-1/, 301\n",
            "Content URL, https://tv1.bioskop21official.com/nonton-eps/pertaruhan-the-series-season-1-episode-2/, 301\n",
            "Content URL, https://tv1.bioskop21official.com/nonton-eps/pertaruhan-the-series-season-1-episode-3/, 301\n",
            "Content URL, https://tv1.bioskop21official.com/nonton-eps/pertaruhan-the-series-season-1-episode-4/, 301\n",
            "Content URL, https://tv1.bioskop21official.com/nonton-eps/pertaruhan-the-series-season-1-episode-5/, 301\n",
            "Content URL, https://tv1.bioskop21official.com/nonton-eps/pertaruhan-the-series-season-1-episode-6/, 301\n",
            "Content URL, https://tv1.bioskop21official.com/nonton-eps/pertaruhan-the-series-season-1-episode-7/, 301\n",
            "Content URL, https://tv1.bioskop21official.com/nonton-eps/pertaruhan-the-series-season-1-episode-8/, 301\n",
            "Content URL, https://nge-film21.fun/eps/pertaruhan-the-series-episode-4/, ERROR\n",
            "Content URL, https://nge-film21.fun/eps/pertaruhan-the-series-episode-5/, ERROR\n",
            "Content URL, https://nge-film21.fun/eps/pertaruhan-the-series-episode-6/, ERROR\n",
            "Content URL, https://nge-film21.fun/eps/pertaruhan-the-series-episode-7/, ERROR\n",
            "time: 20.3 s (started: 2023-12-25 19:39:59 +00:00)\n"
          ]
        }
      ]
    },
    {
      "cell_type": "markdown",
      "source": [
        "# Facebook"
      ],
      "metadata": {
        "id": "nNAf9gRWyWBX"
      }
    },
    {
      "cell_type": "code",
      "source": [
        "my_user_agent = \"Mozilla/5.0 (Windows NT 10.0; Win64; x64) AppleWebKit/537.36 (KHTML, like Gecko) Chrome/92.0.4515.159 Safari/537.36\"\n",
        "display = Display(visible=0, size=(320, 240)).start()  # visible=0\n",
        "chrome_options = webdriver.ChromeOptions()\n",
        "chrome_options.add_argument('--disable-extensions')\n",
        "chrome_options.add_argument('--profile-directory=Default')\n",
        "chrome_options.add_argument(\"--incognito\")\n",
        "chrome_options.add_argument(\"--disable-plugins-discovery\");\n",
        "chrome_options.add_argument(\"--start-maximized\")\n",
        "chrome_options.add_argument(\"--no-sandbox\");\n",
        "chrome_options.add_argument(\"--disable-dev-shm-usage\");\n",
        "driver = webdriver.Chrome(options=chrome_options)\n",
        "driver.delete_all_cookies()\n",
        "driver.set_window_size(800,800)\n",
        "driver.set_window_position(0,0)\n",
        "\n",
        "main_page = 'https://tv1.bioskop21official.com/nonton-eps/pertaruhan-the-series-season-1-episode-1/'\n",
        "def facebook_check(link):\n",
        "  driver.get(link)\n",
        "  time.sleep(2)\n",
        "  html = driver.page_source\n",
        "  driver.save_screenshot('screenie.png')\n",
        "  keyword = \"This Video Isn't Available Anymore\"\n",
        "  result = \"Removed\" if keyword in html else \"Active\"\n",
        "  #print(result)\n",
        "  return result\n",
        "\n",
        "#facebook_check(main_page)\n"
      ],
      "metadata": {
        "colab": {
          "base_uri": "https://localhost:8080/",
          "height": 53
        },
        "id": "D-8JOYzyg2iM",
        "outputId": "7a2fe2a1-522c-43db-cf3d-a0c32ef0300e"
      },
      "execution_count": 146,
      "outputs": [
        {
          "output_type": "execute_result",
          "data": {
            "text/plain": [
              "'Active'"
            ],
            "application/vnd.google.colaboratory.intrinsic+json": {
              "type": "string"
            }
          },
          "metadata": {},
          "execution_count": 146
        },
        {
          "output_type": "stream",
          "name": "stdout",
          "text": [
            "time: 7.2 s (started: 2023-12-25 14:28:36 +00:00)\n"
          ]
        }
      ]
    },
    {
      "cell_type": "markdown",
      "source": [
        "# Print page source"
      ],
      "metadata": {
        "id": "T43viobgIgd7"
      }
    },
    {
      "cell_type": "code",
      "source": [
        "import requests\n",
        "\n",
        "r = requests.get(\"https://www.facebook.com/100080210871960/videos/2088931548125338\",\n",
        "                 allow_redirects=True,\n",
        "                 headers=headers,\n",
        "                 verify=False)\n",
        "print(r.text)"
      ],
      "metadata": {
        "id": "viswcbZdCO7z"
      },
      "execution_count": null,
      "outputs": []
    },
    {
      "cell_type": "markdown",
      "source": [
        "# Selenium Testing"
      ],
      "metadata": {
        "id": "EvsWTrCoUWH-"
      }
    },
    {
      "cell_type": "code",
      "source": [],
      "metadata": {
        "id": "0SAH1YXEUOPb"
      },
      "execution_count": null,
      "outputs": []
    },
    {
      "cell_type": "code",
      "source": [
        "\n",
        "from selenium.common.exceptions import StaleElementReferenceException\n",
        "from selenium.common.exceptions import WebDriverException\n",
        "from selenium.common.exceptions import InvalidSessionIdException\n",
        "from selenium.common.exceptions import InvalidArgumentException\n",
        "from selenium.common.exceptions import ElementNotInteractableException\n"
      ],
      "metadata": {
        "colab": {
          "base_uri": "https://localhost:8080/"
        },
        "id": "XCOQdMsFUjGm",
        "outputId": "6744a459-551b-49ad-efd0-a0db99239205"
      },
      "execution_count": 45,
      "outputs": [
        {
          "output_type": "stream",
          "name": "stdout",
          "text": [
            "time: 1.37 ms (started: 2023-12-25 10:05:54 +00:00)\n"
          ]
        }
      ]
    },
    {
      "cell_type": "code",
      "source": [],
      "metadata": {
        "id": "qLkv8OzdgEYP"
      },
      "execution_count": null,
      "outputs": []
    },
    {
      "cell_type": "code",
      "source": [
        "my_user_agent = \"Mozilla/5.0 (Windows NT 10.0; Win64; x64) AppleWebKit/537.36 (KHTML, like Gecko) Chrome/92.0.4515.159 Safari/537.36\"\n",
        "\n",
        "chrome_options = webdriver.ChromeOptions()\n",
        "chrome_options.add_argument('--headless') #headless means no graphical user interface\n",
        "chrome_options.add_argument('--no-sandbox')\n",
        "chrome_options.add_argument('--disable_gpu')\n",
        "chrome_options.add_argument('--disable-dev-shm-usage')\n",
        "chrome_options.add_argument(f\"--user-agent={my_user_agent}\")\n",
        "chrome_options.add_argument('--enable-javascript')\n",
        "\n",
        "chrome_options.add_argument(\"start-maximized\")\n",
        "chrome_options.add_experimental_option(\"excludeSwitches\", [\"enable-automation\"])\n",
        "chrome_options.add_experimental_option('useAutomationExtension', False)\n",
        "chrome_options.add_argument('--disable-blink-features=AutomationControlled')\n",
        "\n",
        "driver = webdriver.Chrome(options=chrome_options)\n",
        "time.sleep(5)\n",
        "main_page = 'https://www.facebook.com/100080210871960/videos/2088931548125338'\n",
        "driver.get(main_page)\n",
        "html = driver.page_source\n",
        "\n",
        "soup = BeautifulSoup(html)\n",
        "print(soup)\n"
      ],
      "metadata": {
        "id": "Y664dD1EU0fe"
      },
      "execution_count": null,
      "outputs": []
    },
    {
      "cell_type": "markdown",
      "source": [
        "# Test Google ISP"
      ],
      "metadata": {
        "id": "NkjoBYCkULMA"
      }
    },
    {
      "cell_type": "code",
      "source": [
        "!curl -s https://packagecloud.io/install/repositories/ookla/speedtest-cli/script.deb.sh | sudo bash\n",
        "!sudo apt-get install speedtest\n",
        "! printf 'YES\\n' | speedtest"
      ],
      "metadata": {
        "colab": {
          "base_uri": "https://localhost:8080/"
        },
        "id": "V_KCyvFwG5XY",
        "outputId": "82dfff65-564a-4a37-e110-05200403ab29"
      },
      "execution_count": 102,
      "outputs": [
        {
          "output_type": "stream",
          "name": "stdout",
          "text": [
            "==============================================================================\n",
            "\n",
            "You may only use this Speedtest software and information generated\n",
            "from it for personal, non-commercial use, through a command line\n",
            "interface on a personal computer. Your use of this software is subject\n",
            "to the End User License Agreement, Terms of Use and Privacy Policy at\n",
            "these URLs:\n",
            "\n",
            "\thttps://www.speedtest.net/about/eula\n",
            "\thttps://www.speedtest.net/about/terms\n",
            "\thttps://www.speedtest.net/about/privacy\n",
            "\n",
            "==============================================================================\n",
            "\n",
            "Do you accept the license? [type YES to accept]: License acceptance recorded. Continuing.\n",
            "\n",
            "\n",
            "   Speedtest by Ookla\n",
            "\n",
            "      Server: Farmers Telephone Cooperative, Inc. - Sumter, SC (id: 6806)\n",
            "         ISP: Google Cloud\n",
            "Idle Latency:    19.97 ms   (jitter: 0.14ms, low: 19.75ms, high: 20.05ms)\n",
            "    Download:  6002.29 Mbps (data used: 8.4 GB)                                                   \n",
            "                 88.22 ms   (jitter: 23.35ms, low: 18.75ms, high: 182.10ms)\n",
            "      Upload:   943.55 Mbps (data used: 1.1 GB)                                                   \n",
            "                120.51 ms   (jitter: 36.98ms, low: 19.68ms, high: 187.68ms)\n",
            " Packet Loss: Not available.\n",
            "  Result URL: https://www.speedtest.net/result/c/4160d226-3684-4d77-94c4-fafe287fa4ec\n",
            "time: 25.7 s (started: 2023-12-25 08:36:16 +00:00)\n"
          ]
        }
      ]
    },
    {
      "cell_type": "code",
      "source": [],
      "metadata": {
        "id": "Wu_NTl6uHMgt"
      },
      "execution_count": null,
      "outputs": []
    }
  ]
}