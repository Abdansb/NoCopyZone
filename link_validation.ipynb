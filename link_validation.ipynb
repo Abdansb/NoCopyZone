{
  "nbformat": 4,
  "nbformat_minor": 0,
  "metadata": {
    "colab": {
      "provenance": [],
      "authorship_tag": "ABX9TyOjiR8igqbiNfvIRNhmMrM5",
      "include_colab_link": true
    },
    "kernelspec": {
      "name": "python3",
      "display_name": "Python 3"
    },
    "language_info": {
      "name": "python"
    }
  },
  "cells": [
    {
      "cell_type": "markdown",
      "metadata": {
        "id": "view-in-github",
        "colab_type": "text"
      },
      "source": [
        "<a href=\"https://colab.research.google.com/github/Abdansb/NoCopyZone/blob/main/link_validation.ipynb\" target=\"_parent\"><img src=\"https://colab.research.google.com/assets/colab-badge.svg\" alt=\"Open In Colab\"/></a>"
      ]
    },
    {
      "cell_type": "code",
      "source": [
        "#! pip install ipython-autotime\n",
        "%load_ext autotime"
      ],
      "metadata": {
        "id": "KT0XumXapb6V"
      },
      "execution_count": null,
      "outputs": []
    },
    {
      "cell_type": "code",
      "source": [
        "import pandas as pd\n",
        "\n",
        "#import columns A and C from Excel file\n",
        "df = pd.read_excel('/content/Copy of 231219_Digital_Content_Protection_Vidio_Appendix.xlsx',\n",
        "                   #skiprows=1,\n",
        "                   sheet_name='data',\n",
        "                   usecols='F',\n",
        "                   index_col = None )\n",
        "#df = df[:10].to_string(index=False, header=False)\n",
        "#view DataFrame\n",
        "#print(df[:10].to_string(index=False, header=False))\n",
        "print(df[:10])"
      ],
      "metadata": {
        "colab": {
          "base_uri": "https://localhost:8080/"
        },
        "id": "5Ut9_8pLvl50",
        "outputId": "c4d189fa-4a5e-4a51-dc6b-02f273a6b4c3"
      },
      "execution_count": 58,
      "outputs": [
        {
          "output_type": "stream",
          "name": "stdout",
          "text": [
            "                                         Content URL\n",
            "0  https://www.facebook.com/61552914750614/videos...\n",
            "1  https://www.facebook.com/61552361257367/videos...\n",
            "2  https://www.facebook.com/100065268481709/video...\n",
            "3  https://www.facebook.com/61551633585049/videos...\n",
            "4  https://www.facebook.com/61553458406539/videos...\n",
            "5  https://www.facebook.com/61552300508309/videos...\n",
            "6  https://www.facebook.com/61552917830854/videos...\n",
            "7  https://www.facebook.com/61552938333393/videos...\n",
            "8  https://www.facebook.com/61552725683391/videos...\n",
            "9  https://www.facebook.com/61553042637294/videos...\n",
            "time: 13.2 s (started: 2023-12-25 07:32:05 +00:00)\n"
          ]
        }
      ]
    },
    {
      "cell_type": "code",
      "source": [
        "import requests\n",
        "import urllib3\n",
        "urllib3.disable_warnings(urllib3.exceptions.InsecureRequestWarning)\n",
        "\n",
        "ranged_df = df[91:100]\n",
        "headers={'User-Agent': 'Mozilla/5.0 (Windows NT 10.0; Win64; x64) AppleWebKit/537.36 (KHTML, like Gecko) Chrome/102.0.0.0 Safari/537.36'}\n",
        "\n",
        "\n",
        "def url_code_status(pandas_dataframe):\n",
        "  for index, row in pandas_dataframe.iterrows():\n",
        "    try:\n",
        "      response = requests.get(row[\"Content URL\"],\n",
        "                              allow_redirects=True,\n",
        "                              headers=headers,\n",
        "                              verify=False)\n",
        "      print(f\"{list(df.columns)[0]}, {row['Content URL']}, {response.status_code}\")\n",
        "    except Exception as e:\n",
        "        print(f'[ERROR]: {e}')\n",
        "        continue\n",
        "\n",
        "url_code_status(ranged_df)\n",
        "\n"
      ],
      "metadata": {
        "colab": {
          "base_uri": "https://localhost:8080/"
        },
        "id": "XtWgvidJq2aF",
        "outputId": "bf66e6fa-a010-4bb4-a6a0-678567cd5b99"
      },
      "execution_count": 86,
      "outputs": [
        {
          "output_type": "stream",
          "name": "stdout",
          "text": [
            "Content URL, https://acwaing-cf.ddi2ank3.cc/auth%3D778595e9448cfbdefca5ba744b4da9d0b8b46b7dfd51b82453677dd3d1d56f3484dce4c36c2602b02ea77ac275a3df420bbb69b9025ad0b989124abdc3c8cc7090a1487e0a5c57bd2a40f7b8c06980905c4481e9faa7e959d86e979ccdabc79338f1ee0a7b4af08cb51ccfa2256f14c3573d3f95dda2a584f26dbbba11f695f41697e4051915f01cb00dbb616e516bc430cee3700a951507dee6f235ac505cfbb22f759d3c5ed3f0191be629d788708fd8b9f98e88d4080cb5742d319dbca7b3%26cid%3DznthGnh2ou3r_thVi8QE7231204%26_v%3D2%26_r%3DZ6XdmG%26_vis%3Df61be345d484e1ef54c13e2b265763ecd91116a87abcbe64c1aa939d4c14cfba%26_vvs%3D0468a95806c0a50eb66a066c853cb3a7e14927595a426dc24af72ba794ce0daf/app/c221830.m3u8, 403\n",
            "Content URL, https://ddy2.webhd.ru/ddy2/premium1/tracks-v1a1/mono.m3u8, 403\n",
            "Content URL, https://edge1.ttlpro.futbol/live/ST21bb32f5386cd44.m3u8, 500\n",
            "Content URL, https://cdn.wholive.pro:8089/hls/798DK4N6wnIY/index.m3u8?st=fpiX-fNiBi8cKHaj3MnZ4g&e=1701690650, 403\n",
            "Content URL, https://fhls102.1mv.xyz/by06scpx/s2001/v3a/aHR0cCUzQSUyRiUyRnRzNzcuM3hzdG0ub25l/vv/super/3x_563982.m3u8, 403\n",
            "Content URL, https://keira.superabbit77.pics/football/indonesian-liga-1-3760713/bali-united-vs-arema-fc.html?icg=SUQ%3D, 403\n",
            "Content URL, https://www.daddylivehd.one/live/stream-1.php, 200\n",
            "Content URL, https://tapenoads.com/v/Dq1KY39ppLuky0L/NGEFILM21.Married.with.Senior.Ep.06.480p.mp4, 404\n",
            "Content URL, https://tapenoads.com/v/YW1oLXlz4XSvboQ/NGEFILM21.Married.with.Senior.Ep.06.720p.mp4, 404\n",
            "time: 2.35 s (started: 2023-12-25 08:10:52 +00:00)\n"
          ]
        }
      ]
    },
    {
      "cell_type": "code",
      "source": [
        "import requests\n",
        "\n",
        "r = requests.get(\"https://www.daddylivehd.one/live/stream-1.php\")\n",
        "print(r.text)"
      ],
      "metadata": {
        "id": "viswcbZdCO7z"
      },
      "execution_count": null,
      "outputs": []
    }
  ]
}